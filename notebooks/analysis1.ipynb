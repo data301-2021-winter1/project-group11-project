{
 "cells": [
  {
   "cell_type": "markdown",
   "source": [
    "# Sai Rohith Enumala "
   ],
   "metadata": {}
  },
  {
   "cell_type": "markdown",
   "source": [
    "## Research question/interests\r\n",
    "\r\n",
    "We are interested in Toronto's Airbnb listings (dataset) as it contains a multitude of elements including neighborhoods, pricing, ratings, and whether or not the host is a super host. 
Research question: I want to analyze how does the neighborhood influences the price of the listings."
   ],
   "metadata": {}
  }
 ],
 "metadata": {
  "orig_nbformat": 4,
  "language_info": {
   "name": "plaintext"
  }
 },
 "nbformat": 4,
 "nbformat_minor": 2
}
